{
 "cells": [
  {
   "cell_type": "code",
   "execution_count": 38,
   "metadata": {},
   "outputs": [],
   "source": [
    "import imaplib\n",
    "import email\n",
    "import os\n",
    "from datetime import datetime\n",
    "import mimetypes"
   ]
  },
  {
   "cell_type": "code",
   "execution_count": 39,
   "metadata": {},
   "outputs": [
    {
     "name": "stdout",
     "output_type": "stream",
     "text": [
      "Login success..........\n",
      "c:\\Users\\Ahlem\\Desktop\\Grepsys Project\\server\\tmsys\\src\\api\\..\\uploads\\Order Test\n",
      "c:\\Users\\Ahlem\\Desktop\\Grepsys Project\\server\\tmsys\\src\\api\\..\\uploads\\ok\n"
     ]
    }
   ],
   "source": [
    "if __name__ == '__main__':\n",
    "    mail = imaplib.IMAP4_SSL('outlook.office365.com', 993)\n",
    "    mail.login(\"greporder@outlook.com\", \"MaarchMaarch\")\n",
    "    print(\"Login success..........\")\n",
    "    mail.select(\"inbox\")\n",
    "    result, data = mail.uid('search',None,'ALL')\n",
    "    inbox_item_list = data[0].split()             \n",
    "    \n",
    "    counter = 0\n",
    "    # iterating over UIDs\n",
    "    for item in inbox_item_list:\n",
    "        counter+=1\n",
    "        #result2 contains confirmation in the form of \"OK\" and email_data contains information regarding the mail.\n",
    "        result2, email_data = mail.uid('fetch',item,'(RFC822)')\n",
    "        \n",
    "        raw_email = email_data[0][1].decode(\"utf-8\")   \n",
    "        \n",
    "        #Return a message object structure from a string.\n",
    "        email_message = email.message_from_string(raw_email)\n",
    "\n",
    "        #getting information about the mail like to, from,subject, date.\n",
    "        to_ = email_message['To']         \n",
    "        from_ = email_message['From']\n",
    "        subject_ = email_message['Subject']\n",
    "        date_ = email_message['date']\n",
    "        \n",
    "        # setting the format to save in text file. \n",
    "        to_ = \"to: \" + to_ + str(\"\\n\")\n",
    "        from_ = \"from: \" + from_ + str(\"\\n\")\n",
    "        date_ = \"date: \" + date_ + str(\"\\n\")\n",
    "        subject__ = \"subject: \" + subject_ + str(\"\\n\")\n",
    "        \n",
    "        \n",
    "        # if path length exceeds a certain limit, then changing the name of mail folder.\n",
    "        lenOfSubject = len(subject_)\n",
    "        if (lenOfSubject > 30):\n",
    "            #Setting subject equals to exceed + counter if len of subject is more than 30.\n",
    "            subject_ = \"exceed\"+str(counter)          \n",
    "        \n",
    "        # accessing the subparts of email_message\n",
    "        for part in email_message.walk():\n",
    "            if part.get_content_maintype == 'multipart':\n",
    "                continue\n",
    "            content_type = part.get_content_type()\n",
    "            content_disposition = str(part.get(\"Content-Disposition\"))\n",
    "            \n",
    "            filename = part.get_filename()\n",
    "            # using mimetype to know the extension of attachment\n",
    "            # comment below 2 lines to allow all types of format to download in all functions. \n",
    "            ext = mimetypes.guess_extension(part.get_content_type())\n",
    "            # allowing pdf, jpg, png and doc format only\n",
    "            if ext == '.pdf' or ext == '.jpe' or ext == '.png' or ext == '.docx':\n",
    "                if filename:\n",
    "                    save_path = os.path.join(os.getcwd(), \"..\" ,\"uploads\", subject_)\n",
    "                    if not os.path.exists(save_path):\n",
    "                        os.makedirs(save_path)\n",
    "                    with open(os.path.join(save_path, filename), 'wb') as fp:\n",
    "                        fp.write(part.get_payload(decode=True))\n",
    "                        fp.close()\n",
    "\n",
    "        # getting the body part of the mail.\n",
    "            try:\n",
    "                body = part.get_payload(decode=True).decode()   \n",
    "            except:\n",
    "                pass\n",
    "        \n",
    "        # saving the required information in a file named as \"textfile.txt\".\n",
    "            if content_type == \"text/plain\" and \"attachment\" not in content_disposition:\n",
    "                save_path = os.path.join(os.getcwd(), \"..\" ,\"uploads\", subject_)\n",
    "                print(save_path)\n",
    "\n",
    "                if not os.path.exists(save_path):\n",
    "                    os.makedirs(save_path)\n",
    "\n",
    "                filename = \"textfile.txt\"\n",
    "                with open(os.path.join(save_path, filename), 'w+', encoding='utf-8') as fp:\n",
    "                    fp.writelines(to_)\n",
    "                    fp.writelines(from_)\n",
    "                    fp.writelines(date_)\n",
    "                    fp.writelines(subject__)\n",
    "                    fp.writelines(body)      #Add here if any other information you want to add in text file.\n",
    "                    fp.close()\n",
    "    mail.close()\n",
    "    mail.logout()\n",
    "\n",
    "\n",
    "\n",
    "\n"
   ]
  },
  {
   "cell_type": "code",
   "execution_count": null,
   "metadata": {},
   "outputs": [],
   "source": []
  }
 ],
 "metadata": {
  "kernelspec": {
   "display_name": "Python 3.7.6 ('venv': venv)",
   "language": "python",
   "name": "python3"
  },
  "language_info": {
   "codemirror_mode": {
    "name": "ipython",
    "version": 3
   },
   "file_extension": ".py",
   "mimetype": "text/x-python",
   "name": "python",
   "nbconvert_exporter": "python",
   "pygments_lexer": "ipython3",
   "version": "3.7.6"
  },
  "orig_nbformat": 4,
  "vscode": {
   "interpreter": {
    "hash": "8d31f7c1fccb760e163f144105687f248546663962e3e75a9606af572e4c1a1c"
   }
  }
 },
 "nbformat": 4,
 "nbformat_minor": 2
}
