{
 "cells": [
  {
   "cell_type": "markdown",
   "metadata": {},
   "source": [
    "## Orders Truck Optimized Algorithm:"
   ]
  },
  {
   "cell_type": "markdown",
   "metadata": {},
   "source": [
    "### Step 1 : Library Imports "
   ]
  },
  {
   "cell_type": "code",
   "execution_count": 45,
   "metadata": {},
   "outputs": [],
   "source": [
    "import csv\n",
    "import math\n",
    "import pandas as pd\n",
    "from sklearn.cluster import KMeans\n",
    "import numpy as np\n",
    "import sys"
   ]
  },
  {
   "cell_type": "markdown",
   "metadata": {},
   "source": [
    "### Step 2 : Constants Declaration"
   ]
  },
  {
   "cell_type": "code",
   "execution_count": 46,
   "metadata": {},
   "outputs": [],
   "source": [
    "MAX_DELIVERIES = 10\n",
    "DRIVE_SPEED_KMPH = 20\n",
    "PRICE_PER_TRUCK = 100\n",
    "PRICE_PER_KM = 0.061\n",
    "MAX_TIME_PER_TRUCK = 10\n",
    "TOTAL_CLUSTERS = 51"
   ]
  },
  {
   "cell_type": "code",
   "execution_count": 47,
   "metadata": {},
   "outputs": [],
   "source": [
    "### Step 4 : Functions Defition"
   ]
  },
  {
   "cell_type": "code",
   "execution_count": 48,
   "metadata": {},
   "outputs": [],
   "source": [
    "def distance(x1, y1, x2, y2):\n",
    "    return math.sqrt((x1 - x2)**2 + (y1 - y2)**2)"
   ]
  },
  {
   "cell_type": "markdown",
   "metadata": {},
   "source": [
    "### Step 5 : Project Models"
   ]
  },
  {
   "cell_type": "markdown",
   "metadata": {},
   "source": [
    "#### Model 1 : Truck "
   ]
  },
  {
   "cell_type": "code",
   "execution_count": 49,
   "metadata": {},
   "outputs": [],
   "source": [
    "class Truck:\n",
    "    id = 0\n",
    "\n",
    "    def __init__(self):\n",
    "        self.capacity_left = MAX_DELIVERIES\n",
    "        self.x = 0\n",
    "        self.y = 0\n",
    "        self.current_time = 0\n",
    "        self.id = Truck.id\n",
    "        self.deliveries = []  # [truck_id, order_id, seq_no]\n",
    "        self.current_order = 1\n",
    "        self.delivered = False\n",
    "        Truck.id += 1\n",
    "\n",
    "    def can_deliver_order(self, order):\n",
    "        \"\"\"\n",
    "        Checks whether the truck can deliver the order and reach the depot in\n",
    "        time.\n",
    "        \"\"\"\n",
    "        if self.capacity_left == 0:\n",
    "            return False\n",
    "\n",
    "        time_to_reach_order = distance(\n",
    "            self.x, self.y, order.x, order.y\n",
    "        ) / DRIVE_SPEED_KMPH\n",
    "\n",
    "        if self.current_time + time_to_reach_order >= order.end_time:\n",
    "            return False\n",
    "\n",
    "        time_to_reach_depot = distance(\n",
    "            order.x, order.y, 0, 0\n",
    "        ) / DRIVE_SPEED_KMPH\n",
    "\n",
    "        if (\n",
    "            max(self.current_time + time_to_reach_order, order.start_time)\n",
    "                + time_to_reach_depot > MAX_TIME_PER_TRUCK\n",
    "        ):\n",
    "            return False\n",
    "\n",
    "        print(\"True\")\n",
    "        return True\n",
    "\n",
    "    def deliver_order(self, order):\n",
    "        dist = distance(self.x, self.y, order.x, order.y)\n",
    "\n",
    "        # update current_time\n",
    "        self.current_time = max(\n",
    "            self.current_time + (dist / DRIVE_SPEED_KMPH),\n",
    "            order.start_time\n",
    "        )\n",
    "\n",
    "        # update capacity\n",
    "        self.capacity_left -= 1\n",
    "\n",
    "        # update location\n",
    "        self.x = order.x\n",
    "        self.y = order.y\n",
    "\n",
    "        # add order to deliveries\n",
    "        self.deliveries.append([self.id, order.id, self.current_order])\n",
    "        self.current_order += 1\n",
    "\n",
    "    def deliver(self):\n",
    "        self.delivered = True\n",
    "        return self.deliveries[::]\n",
    "\n",
    "    def has_delivered(self):\n",
    "        return self.delivered"
   ]
  },
  {
   "cell_type": "markdown",
   "metadata": {},
   "source": [
    "#### Model 2 : Order"
   ]
  },
  {
   "cell_type": "code",
   "execution_count": 50,
   "metadata": {},
   "outputs": [],
   "source": [
    "class Order:\n",
    "    def __init__(self, id, x, y, start_time):\n",
    "        self.id = id\n",
    "        self.x = x\n",
    "        self.y = y\n",
    "        self.start_time = start_time\n",
    "        self.end_time = self.start_time + 1"
   ]
  },
  {
   "cell_type": "markdown",
   "metadata": {},
   "source": [
    "### Step 5 :Routing Optimization Algorithm :"
   ]
  },
  {
   "cell_type": "code",
   "execution_count": 51,
   "metadata": {},
   "outputs": [],
   "source": [
    "def clustered(orders, kmeans):\n",
    "    clusters = {i: np.where(kmeans.labels_ == i)[0] for i in range(kmeans.n_clusters)}\n",
    "    deliveries = []\n",
    "\n",
    "    current_truck = Truck(orders[::])\n",
    "\n",
    "    # loop over each cluster\n",
    "    for cluster in clusters.values():\n",
    "        curr_len = len(deliveries)\n",
    "\n",
    "        orders_in_cluster = [orders[idx] for idx in cluster]\n",
    "\n",
    "        for order in sorted(orders_in_cluster, key=lambda x: x.end_time):\n",
    "            if current_truck.can_deliver_order(order):\n",
    "                current_truck.deliver_order(order)\n",
    "            else:\n",
    "                deliveries.extend(current_truck.deliver())\n",
    "                current_truck = Truck(orders[::])\n",
    "                current_truck.deliver_order(order)\n",
    "\n",
    "    if not current_truck.has_delivered():\n",
    "        deliveries.extend(current_truck.deliver())\n",
    "\n",
    "    return deliveries"
   ]
  },
  {
   "cell_type": "markdown",
   "metadata": {},
   "source": [
    "### Step 6 : Finding clusters, running algo, formatting output :"
   ]
  },
  {
   "cell_type": "code",
   "execution_count": 52,
   "metadata": {},
   "outputs": [],
   "source": [
    "def answer():\n",
    "    df = pd.read_csv(\"orders.csv\")\n",
    "\n",
    "    orders_to_cluster = []\n",
    "    orders = []\n",
    "\n",
    "    for _, row in df.iterrows():\n",
    "        orders_to_cluster.append([row[\"x\"], row[\"y\"]])\n",
    "        order = Order(\n",
    "            row[\"order_id\"], row[\"x\"], row[\"y\"], row[\"time_window_start\"]\n",
    "        )\n",
    "        orders.append(order)\n",
    "\n",
    "    kmeans = KMeans(n_clusters=TOTAL_CLUSTERS, random_state=0)\n",
    "    kmeans.fit(orders_to_cluster)\n",
    "\n",
    "    # ans_list = bruteforce(orders)\n",
    "    ans_list = clustered(orders, kmeans)\n",
    "\n",
    "    print(len(ans_list))\n",
    "\n",
    "    with open(\"answer.txt\", 'w', newline='') as csvfile:\n",
    "        writer = csv.writer(csvfile)\n",
    "        writer.writerow([\"truck_id\", \"order_id\", \"sequence_number\"])\n",
    "        for row in ans_list:\n",
    "            writer.writerow(row)\n"
   ]
  },
  {
   "cell_type": "markdown",
   "metadata": {},
   "source": [
    "### Result Evaluation :"
   ]
  },
  {
   "cell_type": "code",
   "execution_count": 53,
   "metadata": {},
   "outputs": [],
   "source": [
    "import matplotlib\n",
    "matplotlib.rcParams['figure.figsize'] = (20,40)\n",
    "import matplotlib.pyplot as plt\n",
    "%matplotlib inline  \n",
    "\n",
    "\"\"\"\n",
    "Can be used to validate and score your solution\n",
    "Usage: validate.py <file name>\n",
    "\"\"\"\n",
    "\n",
    "import sys\n",
    "import math\n",
    "import pandas as pd\n",
    "\n",
    "\n",
    "MAX_DELIVERIES = 10\n",
    "DRIVE_SPEED_KMPH = 20\n",
    "PRICE_PER_TRUCK = 100\n",
    "PRICE_PER_KM = 0.061\n",
    "\n",
    "def distance1(pos1, pos2):\n",
    "    \"\"\"Find the euclidean distance between two, two dimentional tuples\"\"\"\n",
    "    diff_1 = pos1[0] - pos2[0]\n",
    "    diff_2 = pos1[1] - pos2[1]\n",
    "    return math.sqrt(diff_1*diff_1 + diff_2*diff_2)\n",
    "\n",
    "\n",
    "def is_valid(data_frame):\n",
    "    \"\"\"Check if the route provided for a truck is legal.\n",
    "       Print any problems to stderr\"\"\"\n",
    "    epsilon = 0.00001\n",
    "    check = data_frame.copy()\n",
    "    check.sort_values(\"sequence_number\", inplace=True)\n",
    "    location = (0, 0)\n",
    "    time = 0\n",
    "    valid = []\n",
    "    # Check all deliveries make their time windows\n",
    "    row = \"\"\n",
    "    for _, row in check.iterrows():\n",
    "        new_location = (row.x, row.y)\n",
    "        travel_time_hours = distance1(location, new_location) / DRIVE_SPEED_KMPH\n",
    "        time = time + travel_time_hours\n",
    "        if time > row.time_window_start+1:\n",
    "            sys.stderr.write(\"Error: Truck \" + str(row.truck_id)\n",
    "                             + \" delivers to \" + str(row.order_id)\n",
    "                             + \" late at \" + str(time) + \"\\n\")\n",
    "            valid.append(False)\n",
    "        else:\n",
    "            valid.append(True)\n",
    "        if time - epsilon < row.time_window_start:\n",
    "            time = row.time_window_start\n",
    "        location = new_location\n",
    "\n",
    "    # Check the van returns to the depot in time\n",
    "    new_location = (0, 0)\n",
    "    travel_time_hours = distance1(location, new_location) / DRIVE_SPEED_KMPH\n",
    "    time = time + travel_time_hours\n",
    "    if time - epsilon > 10:\n",
    "        sys.stderr.write(\"Error: Truck \" + str(row.truck_id)\n",
    "                         + \" returns to the depot at \" + str(time) + \"\\n\")\n",
    "        valid = [False] * len(check)\n",
    "\n",
    "    # Check the van makes at most 10 deliveries\n",
    "    if len(check) > MAX_DELIVERIES:\n",
    "        sys.stderr.write(\"Error: Truck \" + str(row.truck_id)\n",
    "                         + \" delivers to \" + str(len(check)) + \" orders.\\n\")\n",
    "        valid = [False] * len(check)\n",
    "    return valid\n",
    "    \n",
    "def route_distance(data_frame):\n",
    "    \"\"\"Check if the route provided for a truck is legal.\n",
    "       Print any problems to stderr\"\"\"\n",
    "    check = data_frame.copy()\n",
    "    check.sort_values(\"sequence_number\", inplace=True)\n",
    "    location = (0, 0)\n",
    "    total_distance = 0\n",
    "    # Sum the distances to last order\n",
    "    for _, row in check.iterrows():\n",
    "        new_location = (row.x, row.y)\n",
    "        total_distance += distance1(location, new_location)\n",
    "        location = new_location\n",
    "\n",
    "    # Add distance to depot\n",
    "    new_location = (0, 0)\n",
    "    total_distance += distance1(location, new_location)\n",
    "\n",
    "    return total_distance\n",
    "\n",
    "def check(file_name):\n",
    "    \"\"\"\n",
    "    Find the score for the solution and report any problems\n",
    "    \"\"\"\n",
    "    # Columns are: truck_id, order_id, sequence_number\n",
    "    data = pd.read_csv(file_name)\n",
    "    data.columns = [column.strip() for column in data.columns.tolist()]\n",
    "    # Columns are: order_id, x, y, time_window_start\n",
    "    orders = pd.read_csv(\"orders.csv\")\n",
    "    orders.columns = [column.strip() for column in orders.columns.tolist()]\n",
    "    data = data.merge(orders, on=\"order_id\")\n",
    "\n",
    "    # Check correct unique orders\n",
    "    specified_orders = data.order_id.nunique()\n",
    "    if specified_orders != len(orders):\n",
    "        sys.stderr.write(\"Error: \" + str(specified_orders) + \" specified. \"\n",
    "                         + str(len(orders)) + \" orders required.\\n\")\n",
    "        exit(1)\n",
    "\n",
    "    # Check specified duplicate orders\n",
    "    duplicates = data.order_id.duplicated()\n",
    "    if sum(duplicates):\n",
    "        msg = \"Error: the following order(s) have multiple deliveries:\\n\"\n",
    "        duplicated_orders = data[duplicates].groupby(\"order_id\")\n",
    "        duplicated_orders = duplicated_orders.mean().reset_index().order_id\n",
    "        duplicated_orders = duplicated_orders.values.tolist()\n",
    "        sys.stderr.write(msg + str(duplicated_orders) + \"\\n\")\n",
    "        exit(1)\n",
    "\n",
    "    # Check the validity of the routes\n",
    "    valid = data.groupby(\"truck_id\").apply(is_valid).tolist()\n",
    "    valid = [x for sublist in valid for x in sublist]\n",
    "    total_distance = sum(data.groupby(\"truck_id\").apply(route_distance))\n",
    "\n",
    "    if not sum(valid) == len(data):\n",
    "        print(\"Invalid solution\")\n",
    "        exit(1)\n",
    "    else:\n",
    "        vans = data.truck_id.nunique()\n",
    "        #print(\"Correct solution found with \"\n",
    "             # + str(vans) + \" trucks.\")\n",
    "        #print(\"Total distance travelled: {0:.2f}\".format(total_distance)\n",
    "             # + \" km\")\n",
    "        cost = vans*100 + total_distance*0.061\n",
    "        #print(\"Total cost: £{0:.2f}\".format(cost))\n",
    "        return (vans,total_distance,cost)\n",
    "        \n"
   ]
  },
  {
   "cell_type": "code",
   "execution_count": 54,
   "metadata": {},
   "outputs": [
    {
     "ename": "TypeError",
     "evalue": "__init__() takes 1 positional argument but 2 were given",
     "output_type": "error",
     "traceback": [
      "\u001b[1;31m---------------------------------------------------------------------------\u001b[0m",
      "\u001b[1;31mTypeError\u001b[0m                                 Traceback (most recent call last)",
      "\u001b[1;32m~\\AppData\\Local\\Temp\\ipykernel_15976\\3551169523.py\u001b[0m in \u001b[0;36m<module>\u001b[1;34m\u001b[0m\n\u001b[0;32m      4\u001b[0m     \u001b[1;32mreturn\u001b[0m \u001b[0mresults\u001b[0m\u001b[1;33m\u001b[0m\u001b[1;33m\u001b[0m\u001b[0m\n\u001b[0;32m      5\u001b[0m \u001b[1;33m\u001b[0m\u001b[0m\n\u001b[1;32m----> 6\u001b[1;33m \u001b[0mresults\u001b[0m \u001b[1;33m=\u001b[0m \u001b[0mpipeline\u001b[0m\u001b[1;33m(\u001b[0m\u001b[1;33m)\u001b[0m\u001b[1;33m\u001b[0m\u001b[1;33m\u001b[0m\u001b[0m\n\u001b[0m\u001b[0;32m      7\u001b[0m \u001b[0mresults\u001b[0m\u001b[1;33m\u001b[0m\u001b[1;33m\u001b[0m\u001b[0m\n",
      "\u001b[1;32m~\\AppData\\Local\\Temp\\ipykernel_15976\\3551169523.py\u001b[0m in \u001b[0;36mpipeline\u001b[1;34m()\u001b[0m\n\u001b[0;32m      1\u001b[0m \u001b[1;32mdef\u001b[0m \u001b[0mpipeline\u001b[0m\u001b[1;33m(\u001b[0m\u001b[1;33m)\u001b[0m\u001b[1;33m:\u001b[0m\u001b[1;33m\u001b[0m\u001b[1;33m\u001b[0m\u001b[0m\n\u001b[1;32m----> 2\u001b[1;33m     \u001b[0manswer\u001b[0m\u001b[1;33m(\u001b[0m\u001b[1;33m)\u001b[0m\u001b[1;33m\u001b[0m\u001b[1;33m\u001b[0m\u001b[0m\n\u001b[0m\u001b[0;32m      3\u001b[0m     \u001b[0mresults\u001b[0m \u001b[1;33m=\u001b[0m \u001b[0mcheck\u001b[0m\u001b[1;33m(\u001b[0m\u001b[1;34m\"answer.txt\"\u001b[0m\u001b[1;33m)\u001b[0m\u001b[1;33m\u001b[0m\u001b[1;33m\u001b[0m\u001b[0m\n\u001b[0;32m      4\u001b[0m     \u001b[1;32mreturn\u001b[0m \u001b[0mresults\u001b[0m\u001b[1;33m\u001b[0m\u001b[1;33m\u001b[0m\u001b[0m\n\u001b[0;32m      5\u001b[0m \u001b[1;33m\u001b[0m\u001b[0m\n",
      "\u001b[1;32m~\\AppData\\Local\\Temp\\ipykernel_15976\\356240836.py\u001b[0m in \u001b[0;36manswer\u001b[1;34m()\u001b[0m\n\u001b[0;32m     16\u001b[0m \u001b[1;33m\u001b[0m\u001b[0m\n\u001b[0;32m     17\u001b[0m     \u001b[1;31m# ans_list = bruteforce(orders)\u001b[0m\u001b[1;33m\u001b[0m\u001b[1;33m\u001b[0m\u001b[1;33m\u001b[0m\u001b[0m\n\u001b[1;32m---> 18\u001b[1;33m     \u001b[0mans_list\u001b[0m \u001b[1;33m=\u001b[0m \u001b[0mclustered\u001b[0m\u001b[1;33m(\u001b[0m\u001b[0morders\u001b[0m\u001b[1;33m,\u001b[0m \u001b[0mkmeans\u001b[0m\u001b[1;33m)\u001b[0m\u001b[1;33m\u001b[0m\u001b[1;33m\u001b[0m\u001b[0m\n\u001b[0m\u001b[0;32m     19\u001b[0m \u001b[1;33m\u001b[0m\u001b[0m\n\u001b[0;32m     20\u001b[0m     \u001b[0mprint\u001b[0m\u001b[1;33m(\u001b[0m\u001b[0mlen\u001b[0m\u001b[1;33m(\u001b[0m\u001b[0mans_list\u001b[0m\u001b[1;33m)\u001b[0m\u001b[1;33m)\u001b[0m\u001b[1;33m\u001b[0m\u001b[1;33m\u001b[0m\u001b[0m\n",
      "\u001b[1;32m~\\AppData\\Local\\Temp\\ipykernel_15976\\1341823644.py\u001b[0m in \u001b[0;36mclustered\u001b[1;34m(orders, kmeans)\u001b[0m\n\u001b[0;32m      3\u001b[0m     \u001b[0mdeliveries\u001b[0m \u001b[1;33m=\u001b[0m \u001b[1;33m[\u001b[0m\u001b[1;33m]\u001b[0m\u001b[1;33m\u001b[0m\u001b[1;33m\u001b[0m\u001b[0m\n\u001b[0;32m      4\u001b[0m \u001b[1;33m\u001b[0m\u001b[0m\n\u001b[1;32m----> 5\u001b[1;33m     \u001b[0mcurrent_truck\u001b[0m \u001b[1;33m=\u001b[0m \u001b[0mTruck\u001b[0m\u001b[1;33m(\u001b[0m\u001b[0morders\u001b[0m\u001b[1;33m[\u001b[0m\u001b[1;33m:\u001b[0m\u001b[1;33m:\u001b[0m\u001b[1;33m]\u001b[0m\u001b[1;33m)\u001b[0m\u001b[1;33m\u001b[0m\u001b[1;33m\u001b[0m\u001b[0m\n\u001b[0m\u001b[0;32m      6\u001b[0m \u001b[1;33m\u001b[0m\u001b[0m\n\u001b[0;32m      7\u001b[0m     \u001b[1;31m# loop over each cluster\u001b[0m\u001b[1;33m\u001b[0m\u001b[1;33m\u001b[0m\u001b[1;33m\u001b[0m\u001b[0m\n",
      "\u001b[1;31mTypeError\u001b[0m: __init__() takes 1 positional argument but 2 were given"
     ]
    }
   ],
   "source": [
    "def pipeline():\n",
    "    answer()\n",
    "    results = check(\"answer.txt\")\n",
    "    return results\n",
    "    \n",
    "results = pipeline()\n",
    "results"
   ]
  }
 ],
 "metadata": {
  "kernelspec": {
   "display_name": "Python 3.7.6 ('venv': venv)",
   "language": "python",
   "name": "python3"
  },
  "language_info": {
   "codemirror_mode": {
    "name": "ipython",
    "version": 3
   },
   "file_extension": ".py",
   "mimetype": "text/x-python",
   "name": "python",
   "nbconvert_exporter": "python",
   "pygments_lexer": "ipython3",
   "version": "3.7.6"
  },
  "orig_nbformat": 4,
  "vscode": {
   "interpreter": {
    "hash": "8d31f7c1fccb760e163f144105687f248546663962e3e75a9606af572e4c1a1c"
   }
  }
 },
 "nbformat": 4,
 "nbformat_minor": 2
}
